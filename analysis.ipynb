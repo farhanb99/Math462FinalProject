{
 "cells": [
  {
   "cell_type": "code",
   "execution_count": 132,
   "metadata": {},
   "outputs": [],
   "source": [
    "import numpy as np\n",
    "import h5py\n",
    "from matplotlib.animation import FuncAnimation\n",
    "import matplotlib.pyplot as plt\n",
    "from matplotlib.colors import LinearSegmentedColormap"
   ]
  },
  {
   "cell_type": "code",
   "execution_count": 125,
   "metadata": {},
   "outputs": [],
   "source": [
    "with h5py.File('test_run.mat', 'r') as f:\n",
    "    f.keys()\n",
    "\n",
    "    n = np.array(f.get('N'))\n",
    "    N = int(n[0])\n",
    "    r = np.array(f.get('rows'))[0]\n",
    "    rows = int(r[0])\n",
    "    tmax = np.array(f.get('tmax'))\n",
    "    tmax = int(tmax[0])\n",
    "    data = np.array(f.get('RES'))"
   ]
  },
  {
   "cell_type": "code",
   "execution_count": 126,
   "metadata": {},
   "outputs": [],
   "source": [
    "blue = '#00274C'\n",
    "maize = '#FFCB05'"
   ]
  },
  {
   "cell_type": "code",
   "execution_count": 127,
   "metadata": {},
   "outputs": [],
   "source": [
    "ppl_in_wave = np.sum(data, axis = 2)\n",
    "ppl_in_wave = np.sum(ppl_in_wave, axis=1)\n",
    "\n",
    "col_ppl = np.sum(data, axis=2)\n",
    "row_ppl = np.sum(data, axis=1)\n",
    "\n",
    "first_occupied_row = np.argmax(row_ppl != 0, axis=1)\n",
    "last_occupied_row = row_ppl.shape[1] - np.argmax(np.fliplr(row_ppl != 0), axis=1) - 1\n",
    "\n",
    "occupied_rows = last_occupied_row - first_occupied_row + 1\n",
    "\n",
    "first_occupied_col = np.argmax(col_ppl != 0, axis=1)\n",
    "last_occupied_col = col_ppl.shape[1] - np.argmax(np.fliplr(col_ppl != 0), axis=1) - 1\n",
    "\n",
    "occupied_cols = last_occupied_col - first_occupied_col + 1\n"
   ]
  },
  {
   "cell_type": "code",
   "execution_count": 128,
   "metadata": {},
   "outputs": [
    {
     "name": "stdout",
     "output_type": "stream",
     "text": [
      "nan\n"
     ]
    },
    {
     "name": "stderr",
     "output_type": "stream",
     "text": [
      "C:\\Users\\yayin\\AppData\\Local\\Temp\\ipykernel_20032\\1723251903.py:3: RuntimeWarning: invalid value encountered in divide\n",
      "  com = np.sum(col_ppl * np.arange(N), axis = 1)/ np.sum(col_ppl,axis = 1)\n"
     ]
    }
   ],
   "source": [
    "\n",
    "# velocity of wave\n",
    "\n",
    "com = np.sum(col_ppl * np.arange(N), axis = 1)/ np.sum(col_ppl,axis = 1)\n",
    "\n",
    "vel = np.diff(com)[:-10]\n",
    "\n",
    "avg_vel = np.average(vel)\n",
    "\n",
    "print(avg_vel)\n",
    "\n"
   ]
  },
  {
   "cell_type": "code",
   "execution_count": 149,
   "metadata": {},
   "outputs": [
    {
     "name": "stdout",
     "output_type": "stream",
     "text": [
      "(0, 11)\n"
     ]
    }
   ],
   "source": [
    "def get_seat_lims(first, last, width):\n",
    "    front_pad = int((width - (last - first+1)) / 2)\n",
    "    back_pad = width - (last - first) - front_pad\n",
    "\n",
    "    if first - front_pad < 0:\n",
    "        return (0, last + back_pad + front_pad + 1)\n",
    "\n",
    "    return(first - front_pad, last + back_pad + 1)\n",
    "\n",
    "lims0 = get_seat_lims(first_occupied_col[0], last_occupied_col[0], 10)\n",
    "\n",
    "print(lims0)"
   ]
  },
  {
   "cell_type": "code",
   "execution_count": 152,
   "metadata": {},
   "outputs": [
    {
     "name": "stdout",
     "output_type": "stream",
     "text": [
      "(87, 250, 50)\n",
      "(87, 250, 50)\n",
      "6 7\n",
      "(26, 42)\n"
     ]
    }
   ],
   "source": [
    "ind = np.argwhere(data == 1)\n",
    "\n",
    "print(data.shape)\n",
    "print(np.flip(data).shape)\n",
    "\n",
    "ind[457]\n",
    "\n",
    "print(first_occupied_col[2], last_occupied_col[2])\n",
    "print(lims15)"
   ]
  },
  {
   "cell_type": "code",
   "execution_count": 154,
   "metadata": {},
   "outputs": [
    {
     "ename": "AttributeError",
     "evalue": "'numpy.ndarray' object has no attribute 'tick_params'",
     "output_type": "error",
     "traceback": [
      "\u001b[1;31m---------------------------------------------------------------------------\u001b[0m",
      "\u001b[1;31mAttributeError\u001b[0m                            Traceback (most recent call last)",
      "Cell \u001b[1;32mIn[154], line 33\u001b[0m\n\u001b[0;32m     30\u001b[0m im2 \u001b[39m=\u001b[39m axs[\u001b[39m2\u001b[39m]\u001b[39m.\u001b[39mimshow(data[\u001b[39m4\u001b[39m, lims4[\u001b[39m0\u001b[39m]:lims4[\u001b[39m1\u001b[39m],:]\u001b[39m.\u001b[39mT, cmap\u001b[39m=\u001b[39mcmap)\n\u001b[0;32m     31\u001b[0m im3 \u001b[39m=\u001b[39m axs[\u001b[39m3\u001b[39m]\u001b[39m.\u001b[39mimshow(data[\u001b[39m15\u001b[39m, lims15[\u001b[39m0\u001b[39m]:lims15[\u001b[39m1\u001b[39m],:]\u001b[39m.\u001b[39mT, cmap\u001b[39m=\u001b[39mcmap)\n\u001b[1;32m---> 33\u001b[0m axs\u001b[39m.\u001b[39;49mtick_params(\n\u001b[0;32m     34\u001b[0m     axis\u001b[39m=\u001b[39m\u001b[39m'\u001b[39m\u001b[39mx\u001b[39m\u001b[39m'\u001b[39m,          \u001b[39m# changes apply to the x-axis\u001b[39;00m\n\u001b[0;32m     35\u001b[0m     which\u001b[39m=\u001b[39m\u001b[39m'\u001b[39m\u001b[39mboth\u001b[39m\u001b[39m'\u001b[39m,      \u001b[39m# both major and minor ticks are affected\u001b[39;00m\n\u001b[0;32m     36\u001b[0m     bottom\u001b[39m=\u001b[39m\u001b[39mFalse\u001b[39;00m,      \u001b[39m# ticks along the bottom edge are off\u001b[39;00m\n\u001b[0;32m     37\u001b[0m     top\u001b[39m=\u001b[39m\u001b[39mFalse\u001b[39;00m,         \u001b[39m# ticks along the top edge are off\u001b[39;00m\n\u001b[0;32m     38\u001b[0m     labelbottom\u001b[39m=\u001b[39m\u001b[39mFalse\u001b[39;00m)\n\u001b[0;32m     40\u001b[0m \u001b[39m# Set titles for each subplot\u001b[39;00m\n\u001b[0;32m     41\u001b[0m axs[\u001b[39m0\u001b[39m]\u001b[39m.\u001b[39mset_title(\u001b[39mr\u001b[39m\u001b[39m'\u001b[39m\u001b[39m$t=0$\u001b[39m\u001b[39m'\u001b[39m, fontsize\u001b[39m=\u001b[39m\u001b[39m16\u001b[39m)\n",
      "\u001b[1;31mAttributeError\u001b[0m: 'numpy.ndarray' object has no attribute 'tick_params'"
     ]
    },
    {
     "data": {
      "image/png": "[encoded data removed]",
      "text/plain": [
       "<Figure size 900x750 with 4 Axes>"
      ]
     },
     "metadata": {},
     "output_type": "display_data"
    }
   ],
   "source": [
    "R, C = np.meshgrid(np.arange(rows), np.arange(N))\n",
    "\n",
    "x1 = np.random.rand(10)\n",
    "y1 = np.random.rand(10)\n",
    "\n",
    "x2 = np.random.rand(10)\n",
    "y2 = np.random.rand(10)\n",
    "\n",
    "x3 = np.random.rand(10)\n",
    "y3 = np.random.rand(10)\n",
    "\n",
    "x4 = np.random.rand(10)\n",
    "y4 = np.random.rand(10)\n",
    "\n",
    "# Create the colormap using the two colors\n",
    "colors = [blue, maize]\n",
    "cmap = LinearSegmentedColormap.from_list('GoBlue', colors)\n",
    "\n",
    "fig, axs = plt.subplots(1,4, figsize=(6,5), dpi=150, gridspec_kw={'width_ratios': [1, 1, 1,1]})\n",
    "\n",
    "lims0 = get_seat_lims(first_occupied_col[0], last_occupied_col[0], 15)\n",
    "lims2 = get_seat_lims(first_occupied_col[2], last_occupied_col[2], 15)\n",
    "lims4 = get_seat_lims(first_occupied_col[4], last_occupied_col[4], 15)\n",
    "lims15 = get_seat_lims(first_occupied_col[15], last_occupied_col[15], 15)\n",
    "\n",
    "\n",
    "# Plot the data in each subplot\n",
    "im0 = axs[0].imshow(data[0, lims0[0]:lims0[1],:].T, cmap=cmap)\n",
    "im1 = axs[1].imshow(data[2, lims2[0]:lims2[1],:].T, cmap=cmap)\n",
    "im2 = axs[2].imshow(data[4, lims4[0]:lims4[1],:].T, cmap=cmap)\n",
    "im3 = axs[3].imshow(data[15, lims15[0]:lims15[1],:].T, cmap=cmap)\n",
    "\n",
    "for ax in axs:\n",
    "    ax.tick_params(\n",
    "        axis='x',          # changes apply to the x-axis\n",
    "        which='both',      # both major and minor ticks are affected\n",
    "        bottom=False,      # ticks along the bottom edge are off\n",
    "        top=False,         # ticks along the top edge are off\n",
    "        labelbottom=False)\n",
    "\n",
    "# Set titles for each subplot\n",
    "axs[0].set_title(r'$t=0$', fontsize=16)\n",
    "axs[0].set_ylabel('Row Number')\n",
    "axs[0].set_ylim((0,49))\n",
    "\n",
    "axs[1].set_title(r'$t=2$', fontsize=16)\n",
    "axs[1].set_ylim((0,49))\n",
    "\n",
    "axs[2].set_title(r'$t=4$', fontsize=16)\n",
    "axs[2].set_ylim((0,49))\n",
    "\n",
    "axs[3].set_title(r'$t=15$', fontsize=16)\n",
    "axs[3].set_ylim((0,49))\n",
    "\n",
    "fig.colorbar(im0, ax=axs[3])\n",
    "\n",
    "# Adjust the spacing between subplots\n",
    "#plt.subplots_adjust(wspace=0.35, hspace=0.2)\n",
    "\n",
    "plt.tight_layout()\n",
    "\n",
    "# Show the plot\n",
    "plt.show()\n",
    "\n",
    "\n"
   ]
  },
  {
   "cell_type": "code",
   "execution_count": null,
   "metadata": {},
   "outputs": [],
   "source": []
  }
 ],
 "metadata": {
  "kernelspec": {
   "display_name": "462final",
   "language": "python",
   "name": "python3"
  },
  "language_info": {
   "codemirror_mode": {
    "name": "ipython",
    "version": 3
   },
   "file_extension": ".py",
   "mimetype": "text/x-python",
   "name": "python",
   "nbconvert_exporter": "python",
   "pygments_lexer": "ipython3",
   "version": "3.11.2"
  },
  "orig_nbformat": 4
 },
 "nbformat": 4,
 "nbformat_minor": 2
}
